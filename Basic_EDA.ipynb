{
  "nbformat": 4,
  "nbformat_minor": 0,
  "metadata": {
    "colab": {
      "provenance": [],
      "authorship_tag": "ABX9TyPNc8VImYi63TQOJad/SpLG",
      "include_colab_link": true
    },
    "kernelspec": {
      "name": "python3",
      "display_name": "Python 3"
    },
    "language_info": {
      "name": "python"
    }
  },
  "cells": [
    {
      "cell_type": "markdown",
      "metadata": {
        "id": "view-in-github",
        "colab_type": "text"
      },
      "source": [
        "<a href=\"https://colab.research.google.com/github/disha222/Books-Machine-Learning-and-data-Science/blob/main/Basic_EDA.ipynb\" target=\"_parent\"><img src=\"https://colab.research.google.com/assets/colab-badge.svg\" alt=\"Open In Colab\"/></a>"
      ]
    },
    {
      "cell_type": "code",
      "execution_count": 1,
      "metadata": {
        "colab": {
          "base_uri": "https://localhost:8080/"
        },
        "id": "bDpmiJdwPMMJ",
        "outputId": "718eb7c3-2e6b-4a62-c327-ca4fe8d8fa7f"
      },
      "outputs": [
        {
          "output_type": "stream",
          "name": "stdout",
          "text": [
            "\u001b[K     |████████████████████████████████| 281.4 MB 43 kB/s \n",
            "\u001b[K     |████████████████████████████████| 199 kB 67.5 MB/s \n",
            "\u001b[?25h  Building wheel for pyspark (setup.py) ... \u001b[?25l\u001b[?25hdone\n"
          ]
        }
      ],
      "source": [
        "\n",
        "!pip install -q pyspark\n",
        "!pip install -q handyspark\n"
      ]
    },
    {
      "cell_type": "code",
      "source": [
        "pip install handyspark"
      ],
      "metadata": {
        "colab": {
          "base_uri": "https://localhost:8080/"
        },
        "id": "ehti8lieSeEF",
        "outputId": "d5044784-8ebc-42f3-c5dd-a249eb74cdd2"
      },
      "execution_count": 2,
      "outputs": [
        {
          "output_type": "stream",
          "name": "stdout",
          "text": [
            "Looking in indexes: https://pypi.org/simple, https://us-python.pkg.dev/colab-wheels/public/simple/\n",
            "Requirement already satisfied: handyspark in /usr/local/lib/python3.8/dist-packages (0.2.2a1)\n",
            "Requirement already satisfied: matplotlib in /usr/local/lib/python3.8/dist-packages (from handyspark) (3.2.2)\n",
            "Requirement already satisfied: numpy in /usr/local/lib/python3.8/dist-packages (from handyspark) (1.21.6)\n",
            "Requirement already satisfied: scipy in /usr/local/lib/python3.8/dist-packages (from handyspark) (1.7.3)\n",
            "Requirement already satisfied: seaborn in /usr/local/lib/python3.8/dist-packages (from handyspark) (0.11.2)\n",
            "Requirement already satisfied: pyspark in /usr/local/lib/python3.8/dist-packages (from handyspark) (3.3.1)\n",
            "Requirement already satisfied: findspark in /usr/local/lib/python3.8/dist-packages (from handyspark) (2.0.1)\n",
            "Requirement already satisfied: scikit-learn in /usr/local/lib/python3.8/dist-packages (from handyspark) (1.0.2)\n",
            "Requirement already satisfied: pandas in /usr/local/lib/python3.8/dist-packages (from handyspark) (1.3.5)\n",
            "Requirement already satisfied: pyarrow in /usr/local/lib/python3.8/dist-packages (from handyspark) (9.0.0)\n",
            "Requirement already satisfied: python-dateutil>=2.1 in /usr/local/lib/python3.8/dist-packages (from matplotlib->handyspark) (2.8.2)\n",
            "Requirement already satisfied: kiwisolver>=1.0.1 in /usr/local/lib/python3.8/dist-packages (from matplotlib->handyspark) (1.4.4)\n",
            "Requirement already satisfied: pyparsing!=2.0.4,!=2.1.2,!=2.1.6,>=2.0.1 in /usr/local/lib/python3.8/dist-packages (from matplotlib->handyspark) (3.0.9)\n",
            "Requirement already satisfied: cycler>=0.10 in /usr/local/lib/python3.8/dist-packages (from matplotlib->handyspark) (0.11.0)\n",
            "Requirement already satisfied: six>=1.5 in /usr/local/lib/python3.8/dist-packages (from python-dateutil>=2.1->matplotlib->handyspark) (1.15.0)\n",
            "Requirement already satisfied: pytz>=2017.3 in /usr/local/lib/python3.8/dist-packages (from pandas->handyspark) (2022.6)\n",
            "Requirement already satisfied: py4j==0.10.9.5 in /usr/local/lib/python3.8/dist-packages (from pyspark->handyspark) (0.10.9.5)\n",
            "Requirement already satisfied: joblib>=0.11 in /usr/local/lib/python3.8/dist-packages (from scikit-learn->handyspark) (1.2.0)\n",
            "Requirement already satisfied: threadpoolctl>=2.0.0 in /usr/local/lib/python3.8/dist-packages (from scikit-learn->handyspark) (3.1.0)\n"
          ]
        }
      ]
    },
    {
      "cell_type": "code",
      "source": [
        "from typing import Counter\n",
        "from pyspark import SparkContext\n",
        "from pyspark.sql import SparkSession,Window,Row\n",
        "from pyspark.sql import functions as functions\n",
        "from pyspark.sql.functions import col,isnan,when,count\n",
        "from pyspark.sql.functions import *\n",
        "from pyspark.sql .types import *\n",
        "#------------------------------------------------------------------------------------------------------------\n",
        "import matplotlib.pyplot as plt\n",
        "import seaborn as sns\n",
        "from handyspark import *\n",
        "#-------------------------------------------------------------------------------------------------------------\n",
        "from pyspark.ml.feature import VectorAssembler\n",
        "import warnings\n",
        "warnings.filterwarnings(\"ignore\")"
      ],
      "metadata": {
        "id": "MA9ihjfUSp14"
      },
      "execution_count": 4,
      "outputs": []
    },
    {
      "cell_type": "code",
      "source": [
        "# Building a spark app/session\n",
        "spark = SparkSession.builder.appName(\"cementSpark\").getOrCreate()\n",
        "\n",
        "# single cluster information\n",
        "spark"
      ],
      "metadata": {
        "colab": {
          "base_uri": "https://localhost:8080/",
          "height": 219
        },
        "id": "eJg9mCl4XJCZ",
        "outputId": "96243f89-9641-44c9-8a89-fb59818df17e"
      },
      "execution_count": 5,
      "outputs": [
        {
          "output_type": "execute_result",
          "data": {
            "text/plain": [
              "<pyspark.sql.session.SparkSession at 0x7f0f09bb3dc0>"
            ],
            "text/html": [
              "\n",
              "            <div>\n",
              "                <p><b>SparkSession - in-memory</b></p>\n",
              "                \n",
              "        <div>\n",
              "            <p><b>SparkContext</b></p>\n",
              "\n",
              "            <p><a href=\"http://4d75a97cb5fe:4040\">Spark UI</a></p>\n",
              "\n",
              "            <dl>\n",
              "              <dt>Version</dt>\n",
              "                <dd><code>v3.3.1</code></dd>\n",
              "              <dt>Master</dt>\n",
              "                <dd><code>local[*]</code></dd>\n",
              "              <dt>AppName</dt>\n",
              "                <dd><code>cementSpark</code></dd>\n",
              "            </dl>\n",
              "        </div>\n",
              "        \n",
              "            </div>\n",
              "        "
            ]
          },
          "metadata": {},
          "execution_count": 5
        }
      ]
    },
    {
      "cell_type": "code",
      "source": [
        "# Reading the data\n",
        "df = spark.read.csv('concrete.csv',header=True,inferSchema=\"true\")\n",
        "\n",
        "#Shape of the dataset\n",
        "print('Shape of the dataset :',(df.count(),len(df.columns)))\n",
        "\n",
        "#Displaying top n=10 rows\n",
        "df.show(n=10)"
      ],
      "metadata": {
        "colab": {
          "base_uri": "https://localhost:8080/"
        },
        "id": "Oy79hk2CaN0y",
        "outputId": "4c7c9a3a-f7ce-4bae-ba39-948b13f63ee9"
      },
      "execution_count": 7,
      "outputs": [
        {
          "output_type": "stream",
          "name": "stdout",
          "text": [
            "Shape of the dataset : (1030, 9)\n",
            "+------+-----+-----+-----+------------+---------+-------+---+--------+\n",
            "|cement| slag|  ash|water|superplastic|coarseagg|fineagg|age|strength|\n",
            "+------+-----+-----+-----+------------+---------+-------+---+--------+\n",
            "| 141.3|212.0|  0.0|203.5|         0.0|    971.8|  748.5| 28|   29.89|\n",
            "| 168.9| 42.2|124.3|158.3|        10.8|   1080.8|  796.2| 14|   23.51|\n",
            "| 250.0|  0.0| 95.7|187.4|         5.5|    956.9|  861.2| 28|   29.22|\n",
            "| 266.0|114.0|  0.0|228.0|         0.0|    932.0|  670.0| 28|   45.85|\n",
            "| 154.8|183.4|  0.0|193.3|         9.1|   1047.4|  696.7| 28|   18.29|\n",
            "| 255.0|  0.0|  0.0|192.0|         0.0|    889.8|  945.0| 90|   21.86|\n",
            "| 166.8|250.2|  0.0|203.5|         0.0|    975.6|  692.6|  7|   15.75|\n",
            "| 251.4|  0.0|118.3|188.5|         6.4|   1028.4|  757.7| 56|   36.64|\n",
            "| 296.0|  0.0|  0.0|192.0|         0.0|   1085.0|  765.0| 28|   21.65|\n",
            "| 155.0|184.0|143.0|194.0|         9.0|    880.0|  699.0| 28|   28.99|\n",
            "+------+-----+-----+-----+------------+---------+-------+---+--------+\n",
            "only showing top 10 rows\n",
            "\n"
          ]
        }
      ]
    },
    {
      "cell_type": "code",
      "source": [
        "# Getting description of dataset,similar to pandas df.describe()\n",
        "df.describe().show()"
      ],
      "metadata": {
        "colab": {
          "base_uri": "https://localhost:8080/"
        },
        "id": "Ynrmu0wKcYC4",
        "outputId": "2b3ee92a-0afc-4d2e-fbea-225e8e8c606d"
      },
      "execution_count": 9,
      "outputs": [
        {
          "output_type": "stream",
          "name": "stdout",
          "text": [
            "+-------+------------------+-----------------+------------------+------------------+-----------------+-----------------+-----------------+------------------+------------------+\n",
            "|summary|            cement|             slag|               ash|             water|     superplastic|        coarseagg|          fineagg|               age|          strength|\n",
            "+-------+------------------+-----------------+------------------+------------------+-----------------+-----------------+-----------------+------------------+------------------+\n",
            "|  count|              1030|             1030|              1030|              1030|             1030|             1030|             1030|              1030|              1030|\n",
            "|   mean| 281.1678640776698|73.89582524271844|54.188349514563086|181.56728155339798|6.204660194174756| 972.918932038835|773.5804854368932|45.662135922330094| 35.81796116504854|\n",
            "| stddev|104.50636449481534|86.27934174810582|63.997004152687644|21.354218565032475| 5.97384139248552|77.75395396672083|80.17598014240438| 63.16991158103246|16.705741961912505|\n",
            "|    min|             102.0|              0.0|               0.0|             121.8|              0.0|            801.0|            594.0|                 1|              2.33|\n",
            "|    max|             540.0|            359.4|             200.1|             247.0|             32.2|           1145.0|            992.6|               365|              82.6|\n",
            "+-------+------------------+-----------------+------------------+------------------+-----------------+-----------------+-----------------+------------------+------------------+\n",
            "\n"
          ]
        }
      ]
    },
    {
      "cell_type": "code",
      "source": [
        "# Checking for dataframe schema,similar to pandas df.info()\n",
        "df.printSchema()"
      ],
      "metadata": {
        "colab": {
          "base_uri": "https://localhost:8080/"
        },
        "id": "hXeCGjOlcxih",
        "outputId": "aabfe953-3592-4c19-c245-f3ed3caf89fc"
      },
      "execution_count": 10,
      "outputs": [
        {
          "output_type": "stream",
          "name": "stdout",
          "text": [
            "root\n",
            " |-- cement: double (nullable = true)\n",
            " |-- slag: double (nullable = true)\n",
            " |-- ash: double (nullable = true)\n",
            " |-- water: double (nullable = true)\n",
            " |-- superplastic: double (nullable = true)\n",
            " |-- coarseagg: double (nullable = true)\n",
            " |-- fineagg: double (nullable = true)\n",
            " |-- age: integer (nullable = true)\n",
            " |-- strength: double (nullable = true)\n",
            "\n"
          ]
        }
      ]
    },
    {
      "cell_type": "code",
      "source": [
        "# Display the values of a particular column\n",
        "df.select('strength').show()"
      ],
      "metadata": {
        "colab": {
          "base_uri": "https://localhost:8080/"
        },
        "id": "biVYOlQKdVOd",
        "outputId": "bce84cab-fe0d-478b-8a5c-59569c90f91c"
      },
      "execution_count": 11,
      "outputs": [
        {
          "output_type": "stream",
          "name": "stdout",
          "text": [
            "+--------+\n",
            "|strength|\n",
            "+--------+\n",
            "|   29.89|\n",
            "|   23.51|\n",
            "|   29.22|\n",
            "|   45.85|\n",
            "|   18.29|\n",
            "|   21.86|\n",
            "|   15.75|\n",
            "|   36.64|\n",
            "|   21.65|\n",
            "|   28.99|\n",
            "|   36.35|\n",
            "|    6.94|\n",
            "|   27.92|\n",
            "|   26.26|\n",
            "|   23.89|\n",
            "|   49.97|\n",
            "|   30.08|\n",
            "|   44.86|\n",
            "|   15.04|\n",
            "|    25.1|\n",
            "+--------+\n",
            "only showing top 20 rows\n",
            "\n"
          ]
        }
      ]
    },
    {
      "cell_type": "code",
      "source": [
        "# Display the values of a multiple columns\n",
        "df.select('age','strength').show()"
      ],
      "metadata": {
        "colab": {
          "base_uri": "https://localhost:8080/"
        },
        "id": "ahe0Qh8Udvf7",
        "outputId": "fed206ec-0bd9-4ec2-ecc0-035e9c25ca77"
      },
      "execution_count": 12,
      "outputs": [
        {
          "output_type": "stream",
          "name": "stdout",
          "text": [
            "+---+--------+\n",
            "|age|strength|\n",
            "+---+--------+\n",
            "| 28|   29.89|\n",
            "| 14|   23.51|\n",
            "| 28|   29.22|\n",
            "| 28|   45.85|\n",
            "| 28|   18.29|\n",
            "| 90|   21.86|\n",
            "|  7|   15.75|\n",
            "| 56|   36.64|\n",
            "| 28|   21.65|\n",
            "| 28|   28.99|\n",
            "| 28|   36.35|\n",
            "|  3|    6.94|\n",
            "| 14|   27.92|\n",
            "|  7|   26.26|\n",
            "| 28|   23.89|\n",
            "|100|   49.97|\n",
            "| 28|   30.08|\n",
            "| 28|   44.86|\n",
            "|  3|   15.04|\n",
            "| 28|    25.1|\n",
            "+---+--------+\n",
            "only showing top 20 rows\n",
            "\n"
          ]
        }
      ]
    },
    {
      "cell_type": "code",
      "source": [
        "# Checking the type of dataframe\n",
        "print(type(df))\n",
        "\n",
        "# Checking the type of column data\n",
        "print(type(df.select('strength')))"
      ],
      "metadata": {
        "colab": {
          "base_uri": "https://localhost:8080/"
        },
        "id": "u5rbqU2ld-fQ",
        "outputId": "e48896fe-9927-4dab-8b38-26672ba9685d"
      },
      "execution_count": 13,
      "outputs": [
        {
          "output_type": "stream",
          "name": "stdout",
          "text": [
            "<class 'pyspark.sql.dataframe.DataFrame'>\n",
            "<class 'pyspark.sql.dataframe.DataFrame'>\n"
          ]
        }
      ]
    },
    {
      "cell_type": "code",
      "source": [
        "#Displaying datatypes of columns\n",
        "df.dtypes"
      ],
      "metadata": {
        "colab": {
          "base_uri": "https://localhost:8080/"
        },
        "id": "fAuOTLK0ei9H",
        "outputId": "a16bbe81-2022-4867-85d1-dfe6760d9f10"
      },
      "execution_count": 14,
      "outputs": [
        {
          "output_type": "execute_result",
          "data": {
            "text/plain": [
              "[('cement', 'double'),\n",
              " ('slag', 'double'),\n",
              " ('ash', 'double'),\n",
              " ('water', 'double'),\n",
              " ('superplastic', 'double'),\n",
              " ('coarseagg', 'double'),\n",
              " ('fineagg', 'double'),\n",
              " ('age', 'int'),\n",
              " ('strength', 'double')]"
            ]
          },
          "metadata": {},
          "execution_count": 14
        }
      ]
    },
    {
      "cell_type": "code",
      "source": [
        "# getting the list of row objects\n",
        "row_list = df.collect()\n",
        "\n",
        "#Slicing the python list\n",
        "part1 = row_list[:5]\n",
        "part2 = row_list[5:]\n",
        "\n",
        "#Converting the slices to PySpark Dataframes\n",
        "slice1 =spark.createDataFrame(part1)\n",
        "slice2 =spark.createDataFrame(part2)\n",
        "\n",
        "#printing the first slice\n",
        "print('First DataFrame')\n",
        "slice1.show()\n",
        "\n",
        "#printing the second slice\n",
        "print('Second DataFrame')\n",
        "slice2.show()\n",
        "\n"
      ],
      "metadata": {
        "colab": {
          "base_uri": "https://localhost:8080/"
        },
        "id": "iAFbSurCvDGf",
        "outputId": "6cf2c057-0685-455d-f1dc-4937cacbba53"
      },
      "execution_count": 15,
      "outputs": [
        {
          "output_type": "stream",
          "name": "stdout",
          "text": [
            "First DataFrame\n",
            "+------+-----+-----+-----+------------+---------+-------+---+--------+\n",
            "|cement| slag|  ash|water|superplastic|coarseagg|fineagg|age|strength|\n",
            "+------+-----+-----+-----+------------+---------+-------+---+--------+\n",
            "| 141.3|212.0|  0.0|203.5|         0.0|    971.8|  748.5| 28|   29.89|\n",
            "| 168.9| 42.2|124.3|158.3|        10.8|   1080.8|  796.2| 14|   23.51|\n",
            "| 250.0|  0.0| 95.7|187.4|         5.5|    956.9|  861.2| 28|   29.22|\n",
            "| 266.0|114.0|  0.0|228.0|         0.0|    932.0|  670.0| 28|   45.85|\n",
            "| 154.8|183.4|  0.0|193.3|         9.1|   1047.4|  696.7| 28|   18.29|\n",
            "+------+-----+-----+-----+------------+---------+-------+---+--------+\n",
            "\n",
            "Second DataFrame\n",
            "+------+-----+-----+-----+------------+---------+-------+---+--------+\n",
            "|cement| slag|  ash|water|superplastic|coarseagg|fineagg|age|strength|\n",
            "+------+-----+-----+-----+------------+---------+-------+---+--------+\n",
            "| 255.0|  0.0|  0.0|192.0|         0.0|    889.8|  945.0| 90|   21.86|\n",
            "| 166.8|250.2|  0.0|203.5|         0.0|    975.6|  692.6|  7|   15.75|\n",
            "| 251.4|  0.0|118.3|188.5|         6.4|   1028.4|  757.7| 56|   36.64|\n",
            "| 296.0|  0.0|  0.0|192.0|         0.0|   1085.0|  765.0| 28|   21.65|\n",
            "| 155.0|184.0|143.0|194.0|         9.0|    880.0|  699.0| 28|   28.99|\n",
            "| 151.8|178.1|138.7|167.5|        18.3|    944.0|  694.6| 28|   36.35|\n",
            "| 173.0|116.0|  0.0|192.0|         0.0|    946.8|  856.8|  3|    6.94|\n",
            "| 385.0|  0.0|  0.0|186.0|         0.0|    966.0|  763.0| 14|   27.92|\n",
            "| 237.5|237.5|  0.0|228.0|         0.0|    932.0|  594.0|  7|   26.26|\n",
            "| 167.0|187.0|195.0|185.0|         7.0|    898.0|  636.0| 28|   23.89|\n",
            "| 213.8| 98.1| 24.5|181.7|         6.7|   1066.0|  785.5|100|   49.97|\n",
            "| 237.5|237.5|  0.0|228.0|         0.0|    932.0|  594.0| 28|   30.08|\n",
            "| 336.0|  0.0|  0.0|182.0|         3.0|    986.0|  817.0| 28|   44.86|\n",
            "| 190.7|  0.0|125.4|162.1|         7.8|   1090.0|  804.0|  3|   15.04|\n",
            "| 312.7|  0.0|  0.0|178.1|         8.0|    999.7|  822.2| 28|    25.1|\n",
            "| 229.7|  0.0|118.2|195.2|         6.1|   1028.1|  757.6|  3|   13.36|\n",
            "| 228.0|342.1|  0.0|185.7|         0.0|    955.8|  674.3|  7|   21.92|\n",
            "| 236.0|157.0|  0.0|192.0|         0.0|    972.6|  749.1|  7|   20.42|\n",
            "| 132.0|207.0|161.0|179.0|         5.0|    867.0|  736.0| 28|    33.3|\n",
            "| 331.0|  0.0|  0.0|192.0|         0.0|   1025.0|  821.0| 28|   31.74|\n",
            "+------+-----+-----+-----+------------+---------+-------+---+--------+\n",
            "only showing top 20 rows\n",
            "\n"
          ]
        }
      ]
    },
    {
      "cell_type": "code",
      "source": [
        "# adding a new column to the dataset\n",
        "df1 = df.withColumn(\"Cement_new\",df['strength']*2)\n",
        "\n",
        "# displaying the new dataframe\n",
        "df1.show()"
      ],
      "metadata": {
        "colab": {
          "base_uri": "https://localhost:8080/"
        },
        "id": "kDepjCXIwzOx",
        "outputId": "ce0ccf3e-29ac-470a-fa01-2e7f96e863d8"
      },
      "execution_count": 17,
      "outputs": [
        {
          "output_type": "stream",
          "name": "stdout",
          "text": [
            "+------+-----+-----+-----+------------+---------+-------+---+--------+----------+\n",
            "|cement| slag|  ash|water|superplastic|coarseagg|fineagg|age|strength|Cement_new|\n",
            "+------+-----+-----+-----+------------+---------+-------+---+--------+----------+\n",
            "| 141.3|212.0|  0.0|203.5|         0.0|    971.8|  748.5| 28|   29.89|     59.78|\n",
            "| 168.9| 42.2|124.3|158.3|        10.8|   1080.8|  796.2| 14|   23.51|     47.02|\n",
            "| 250.0|  0.0| 95.7|187.4|         5.5|    956.9|  861.2| 28|   29.22|     58.44|\n",
            "| 266.0|114.0|  0.0|228.0|         0.0|    932.0|  670.0| 28|   45.85|      91.7|\n",
            "| 154.8|183.4|  0.0|193.3|         9.1|   1047.4|  696.7| 28|   18.29|     36.58|\n",
            "| 255.0|  0.0|  0.0|192.0|         0.0|    889.8|  945.0| 90|   21.86|     43.72|\n",
            "| 166.8|250.2|  0.0|203.5|         0.0|    975.6|  692.6|  7|   15.75|      31.5|\n",
            "| 251.4|  0.0|118.3|188.5|         6.4|   1028.4|  757.7| 56|   36.64|     73.28|\n",
            "| 296.0|  0.0|  0.0|192.0|         0.0|   1085.0|  765.0| 28|   21.65|      43.3|\n",
            "| 155.0|184.0|143.0|194.0|         9.0|    880.0|  699.0| 28|   28.99|     57.98|\n",
            "| 151.8|178.1|138.7|167.5|        18.3|    944.0|  694.6| 28|   36.35|      72.7|\n",
            "| 173.0|116.0|  0.0|192.0|         0.0|    946.8|  856.8|  3|    6.94|     13.88|\n",
            "| 385.0|  0.0|  0.0|186.0|         0.0|    966.0|  763.0| 14|   27.92|     55.84|\n",
            "| 237.5|237.5|  0.0|228.0|         0.0|    932.0|  594.0|  7|   26.26|     52.52|\n",
            "| 167.0|187.0|195.0|185.0|         7.0|    898.0|  636.0| 28|   23.89|     47.78|\n",
            "| 213.8| 98.1| 24.5|181.7|         6.7|   1066.0|  785.5|100|   49.97|     99.94|\n",
            "| 237.5|237.5|  0.0|228.0|         0.0|    932.0|  594.0| 28|   30.08|     60.16|\n",
            "| 336.0|  0.0|  0.0|182.0|         3.0|    986.0|  817.0| 28|   44.86|     89.72|\n",
            "| 190.7|  0.0|125.4|162.1|         7.8|   1090.0|  804.0|  3|   15.04|     30.08|\n",
            "| 312.7|  0.0|  0.0|178.1|         8.0|    999.7|  822.2| 28|    25.1|      50.2|\n",
            "+------+-----+-----+-----+------------+---------+-------+---+--------+----------+\n",
            "only showing top 20 rows\n",
            "\n"
          ]
        }
      ]
    },
    {
      "cell_type": "code",
      "source": [
        "# Droping the newly added column\n",
        "df2 = df1.drop('Cement_new')\n",
        "# Displaying the new DataFrame\n",
        "df2.show()"
      ],
      "metadata": {
        "colab": {
          "base_uri": "https://localhost:8080/"
        },
        "id": "2znYuUnOxpG8",
        "outputId": "5a386372-a4af-4c60-8eae-3435708c8fe6"
      },
      "execution_count": 18,
      "outputs": [
        {
          "output_type": "stream",
          "name": "stdout",
          "text": [
            "+------+-----+-----+-----+------------+---------+-------+---+--------+\n",
            "|cement| slag|  ash|water|superplastic|coarseagg|fineagg|age|strength|\n",
            "+------+-----+-----+-----+------------+---------+-------+---+--------+\n",
            "| 141.3|212.0|  0.0|203.5|         0.0|    971.8|  748.5| 28|   29.89|\n",
            "| 168.9| 42.2|124.3|158.3|        10.8|   1080.8|  796.2| 14|   23.51|\n",
            "| 250.0|  0.0| 95.7|187.4|         5.5|    956.9|  861.2| 28|   29.22|\n",
            "| 266.0|114.0|  0.0|228.0|         0.0|    932.0|  670.0| 28|   45.85|\n",
            "| 154.8|183.4|  0.0|193.3|         9.1|   1047.4|  696.7| 28|   18.29|\n",
            "| 255.0|  0.0|  0.0|192.0|         0.0|    889.8|  945.0| 90|   21.86|\n",
            "| 166.8|250.2|  0.0|203.5|         0.0|    975.6|  692.6|  7|   15.75|\n",
            "| 251.4|  0.0|118.3|188.5|         6.4|   1028.4|  757.7| 56|   36.64|\n",
            "| 296.0|  0.0|  0.0|192.0|         0.0|   1085.0|  765.0| 28|   21.65|\n",
            "| 155.0|184.0|143.0|194.0|         9.0|    880.0|  699.0| 28|   28.99|\n",
            "| 151.8|178.1|138.7|167.5|        18.3|    944.0|  694.6| 28|   36.35|\n",
            "| 173.0|116.0|  0.0|192.0|         0.0|    946.8|  856.8|  3|    6.94|\n",
            "| 385.0|  0.0|  0.0|186.0|         0.0|    966.0|  763.0| 14|   27.92|\n",
            "| 237.5|237.5|  0.0|228.0|         0.0|    932.0|  594.0|  7|   26.26|\n",
            "| 167.0|187.0|195.0|185.0|         7.0|    898.0|  636.0| 28|   23.89|\n",
            "| 213.8| 98.1| 24.5|181.7|         6.7|   1066.0|  785.5|100|   49.97|\n",
            "| 237.5|237.5|  0.0|228.0|         0.0|    932.0|  594.0| 28|   30.08|\n",
            "| 336.0|  0.0|  0.0|182.0|         3.0|    986.0|  817.0| 28|   44.86|\n",
            "| 190.7|  0.0|125.4|162.1|         7.8|   1090.0|  804.0|  3|   15.04|\n",
            "| 312.7|  0.0|  0.0|178.1|         8.0|    999.7|  822.2| 28|    25.1|\n",
            "+------+-----+-----+-----+------------+---------+-------+---+--------+\n",
            "only showing top 20 rows\n",
            "\n"
          ]
        }
      ]
    },
    {
      "cell_type": "code",
      "source": [
        "data = df.toPandas()\n",
        "print('Type of dataframe', type(data))\n",
        "print('Shape of the dataframe (Pandas Version):', data.shape)\n",
        "data.head()"
      ],
      "metadata": {
        "colab": {
          "base_uri": "https://localhost:8080/",
          "height": 241
        },
        "id": "EW_vhV0zysj3",
        "outputId": "9af737c3-1a00-4f91-8a89-ed31cdfa33a7"
      },
      "execution_count": 19,
      "outputs": [
        {
          "output_type": "stream",
          "name": "stdout",
          "text": [
            "Type of dataframe <class 'pandas.core.frame.DataFrame'>\n",
            "Shape of the dataframe (Pandas Version): (1030, 9)\n"
          ]
        },
        {
          "output_type": "execute_result",
          "data": {
            "text/plain": [
              "   cement   slag    ash  water  superplastic  coarseagg  fineagg  age  \\\n",
              "0   141.3  212.0    0.0  203.5           0.0      971.8    748.5   28   \n",
              "1   168.9   42.2  124.3  158.3          10.8     1080.8    796.2   14   \n",
              "2   250.0    0.0   95.7  187.4           5.5      956.9    861.2   28   \n",
              "3   266.0  114.0    0.0  228.0           0.0      932.0    670.0   28   \n",
              "4   154.8  183.4    0.0  193.3           9.1     1047.4    696.7   28   \n",
              "\n",
              "   strength  \n",
              "0     29.89  \n",
              "1     23.51  \n",
              "2     29.22  \n",
              "3     45.85  \n",
              "4     18.29  "
            ],
            "text/html": [
              "\n",
              "  <div id=\"df-59f81ef0-fb26-48b3-8771-bb4675b3f139\">\n",
              "    <div class=\"colab-df-container\">\n",
              "      <div>\n",
              "<style scoped>\n",
              "    .dataframe tbody tr th:only-of-type {\n",
              "        vertical-align: middle;\n",
              "    }\n",
              "\n",
              "    .dataframe tbody tr th {\n",
              "        vertical-align: top;\n",
              "    }\n",
              "\n",
              "    .dataframe thead th {\n",
              "        text-align: right;\n",
              "    }\n",
              "</style>\n",
              "<table border=\"1\" class=\"dataframe\">\n",
              "  <thead>\n",
              "    <tr style=\"text-align: right;\">\n",
              "      <th></th>\n",
              "      <th>cement</th>\n",
              "      <th>slag</th>\n",
              "      <th>ash</th>\n",
              "      <th>water</th>\n",
              "      <th>superplastic</th>\n",
              "      <th>coarseagg</th>\n",
              "      <th>fineagg</th>\n",
              "      <th>age</th>\n",
              "      <th>strength</th>\n",
              "    </tr>\n",
              "  </thead>\n",
              "  <tbody>\n",
              "    <tr>\n",
              "      <th>0</th>\n",
              "      <td>141.3</td>\n",
              "      <td>212.0</td>\n",
              "      <td>0.0</td>\n",
              "      <td>203.5</td>\n",
              "      <td>0.0</td>\n",
              "      <td>971.8</td>\n",
              "      <td>748.5</td>\n",
              "      <td>28</td>\n",
              "      <td>29.89</td>\n",
              "    </tr>\n",
              "    <tr>\n",
              "      <th>1</th>\n",
              "      <td>168.9</td>\n",
              "      <td>42.2</td>\n",
              "      <td>124.3</td>\n",
              "      <td>158.3</td>\n",
              "      <td>10.8</td>\n",
              "      <td>1080.8</td>\n",
              "      <td>796.2</td>\n",
              "      <td>14</td>\n",
              "      <td>23.51</td>\n",
              "    </tr>\n",
              "    <tr>\n",
              "      <th>2</th>\n",
              "      <td>250.0</td>\n",
              "      <td>0.0</td>\n",
              "      <td>95.7</td>\n",
              "      <td>187.4</td>\n",
              "      <td>5.5</td>\n",
              "      <td>956.9</td>\n",
              "      <td>861.2</td>\n",
              "      <td>28</td>\n",
              "      <td>29.22</td>\n",
              "    </tr>\n",
              "    <tr>\n",
              "      <th>3</th>\n",
              "      <td>266.0</td>\n",
              "      <td>114.0</td>\n",
              "      <td>0.0</td>\n",
              "      <td>228.0</td>\n",
              "      <td>0.0</td>\n",
              "      <td>932.0</td>\n",
              "      <td>670.0</td>\n",
              "      <td>28</td>\n",
              "      <td>45.85</td>\n",
              "    </tr>\n",
              "    <tr>\n",
              "      <th>4</th>\n",
              "      <td>154.8</td>\n",
              "      <td>183.4</td>\n",
              "      <td>0.0</td>\n",
              "      <td>193.3</td>\n",
              "      <td>9.1</td>\n",
              "      <td>1047.4</td>\n",
              "      <td>696.7</td>\n",
              "      <td>28</td>\n",
              "      <td>18.29</td>\n",
              "    </tr>\n",
              "  </tbody>\n",
              "</table>\n",
              "</div>\n",
              "      <button class=\"colab-df-convert\" onclick=\"convertToInteractive('df-59f81ef0-fb26-48b3-8771-bb4675b3f139')\"\n",
              "              title=\"Convert this dataframe to an interactive table.\"\n",
              "              style=\"display:none;\">\n",
              "        \n",
              "  <svg xmlns=\"http://www.w3.org/2000/svg\" height=\"24px\"viewBox=\"0 0 24 24\"\n",
              "       width=\"24px\">\n",
              "    <path d=\"M0 0h24v24H0V0z\" fill=\"none\"/>\n",
              "    <path d=\"M18.56 5.44l.94 2.06.94-2.06 2.06-.94-2.06-.94-.94-2.06-.94 2.06-2.06.94zm-11 1L8.5 8.5l.94-2.06 2.06-.94-2.06-.94L8.5 2.5l-.94 2.06-2.06.94zm10 10l.94 2.06.94-2.06 2.06-.94-2.06-.94-.94-2.06-.94 2.06-2.06.94z\"/><path d=\"M17.41 7.96l-1.37-1.37c-.4-.4-.92-.59-1.43-.59-.52 0-1.04.2-1.43.59L10.3 9.45l-7.72 7.72c-.78.78-.78 2.05 0 2.83L4 21.41c.39.39.9.59 1.41.59.51 0 1.02-.2 1.41-.59l7.78-7.78 2.81-2.81c.8-.78.8-2.07 0-2.86zM5.41 20L4 18.59l7.72-7.72 1.47 1.35L5.41 20z\"/>\n",
              "  </svg>\n",
              "      </button>\n",
              "      \n",
              "  <style>\n",
              "    .colab-df-container {\n",
              "      display:flex;\n",
              "      flex-wrap:wrap;\n",
              "      gap: 12px;\n",
              "    }\n",
              "\n",
              "    .colab-df-convert {\n",
              "      background-color: #E8F0FE;\n",
              "      border: none;\n",
              "      border-radius: 50%;\n",
              "      cursor: pointer;\n",
              "      display: none;\n",
              "      fill: #1967D2;\n",
              "      height: 32px;\n",
              "      padding: 0 0 0 0;\n",
              "      width: 32px;\n",
              "    }\n",
              "\n",
              "    .colab-df-convert:hover {\n",
              "      background-color: #E2EBFA;\n",
              "      box-shadow: 0px 1px 2px rgba(60, 64, 67, 0.3), 0px 1px 3px 1px rgba(60, 64, 67, 0.15);\n",
              "      fill: #174EA6;\n",
              "    }\n",
              "\n",
              "    [theme=dark] .colab-df-convert {\n",
              "      background-color: #3B4455;\n",
              "      fill: #D2E3FC;\n",
              "    }\n",
              "\n",
              "    [theme=dark] .colab-df-convert:hover {\n",
              "      background-color: #434B5C;\n",
              "      box-shadow: 0px 1px 3px 1px rgba(0, 0, 0, 0.15);\n",
              "      filter: drop-shadow(0px 1px 2px rgba(0, 0, 0, 0.3));\n",
              "      fill: #FFFFFF;\n",
              "    }\n",
              "  </style>\n",
              "\n",
              "      <script>\n",
              "        const buttonEl =\n",
              "          document.querySelector('#df-59f81ef0-fb26-48b3-8771-bb4675b3f139 button.colab-df-convert');\n",
              "        buttonEl.style.display =\n",
              "          google.colab.kernel.accessAllowed ? 'block' : 'none';\n",
              "\n",
              "        async function convertToInteractive(key) {\n",
              "          const element = document.querySelector('#df-59f81ef0-fb26-48b3-8771-bb4675b3f139');\n",
              "          const dataTable =\n",
              "            await google.colab.kernel.invokeFunction('convertToInteractive',\n",
              "                                                     [key], {});\n",
              "          if (!dataTable) return;\n",
              "\n",
              "          const docLinkHtml = 'Like what you see? Visit the ' +\n",
              "            '<a target=\"_blank\" href=https://colab.research.google.com/notebooks/data_table.ipynb>data table notebook</a>'\n",
              "            + ' to learn more about interactive tables.';\n",
              "          element.innerHTML = '';\n",
              "          dataTable['output_type'] = 'display_data';\n",
              "          await google.colab.output.renderOutput(dataTable, element);\n",
              "          const docLink = document.createElement('div');\n",
              "          docLink.innerHTML = docLinkHtml;\n",
              "          element.appendChild(docLink);\n",
              "        }\n",
              "      </script>\n",
              "    </div>\n",
              "  </div>\n",
              "  "
            ]
          },
          "metadata": {},
          "execution_count": 19
        }
      ]
    },
    {
      "cell_type": "markdown",
      "source": [
        "**Data Pre-Processing**"
      ],
      "metadata": {
        "id": "i68pz_lUzeW9"
      }
    },
    {
      "cell_type": "code",
      "source": [
        "# creating a dataframe to check null value counts\n",
        "null_df=df.select([count(when(col(c).contains('None')|\\\n",
        "\n",
        "                              col(c).contains('Null')|\\\n",
        "\n",
        "                              (col(c)=='')|\\\n",
        "\n",
        "                              col(c).isNull()|\\\n",
        "\n",
        "                              isnan(c),c\n",
        "\n",
        "                              )).alias(c)\n",
        "\n",
        "                              for c in df.columns])\n",
        "\n",
        "\n",
        "\n",
        "#Displaying the null values counts dataframe\n",
        "\n",
        "null_df.show()"
      ],
      "metadata": {
        "colab": {
          "base_uri": "https://localhost:8080/"
        },
        "id": "fcBG6v0rz0tm",
        "outputId": "089df3cf-37a7-4ff2-bc2a-2aaa28735f53"
      },
      "execution_count": 22,
      "outputs": [
        {
          "output_type": "stream",
          "name": "stdout",
          "text": [
            "+------+----+---+-----+------------+---------+-------+---+--------+\n",
            "|cement|slag|ash|water|superplastic|coarseagg|fineagg|age|strength|\n",
            "+------+----+---+-----+------------+---------+-------+---+--------+\n",
            "|     0|   0|  0|    0|           0|        0|      0|  0|       0|\n",
            "+------+----+---+-----+------------+---------+-------+---+--------+\n",
            "\n"
          ]
        }
      ]
    },
    {
      "cell_type": "code",
      "source": [],
      "metadata": {
        "id": "1-zwEesc3kCm"
      },
      "execution_count": null,
      "outputs": []
    }
  ]
}